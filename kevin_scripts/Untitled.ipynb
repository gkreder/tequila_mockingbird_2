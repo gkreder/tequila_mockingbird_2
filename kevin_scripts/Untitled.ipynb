{
 "cells": [
  {
   "cell_type": "code",
   "execution_count": 35,
   "metadata": {
    "collapsed": true
   },
   "outputs": [],
   "source": [
    "import pickle"
   ]
  },
  {
   "cell_type": "code",
   "execution_count": 38,
   "metadata": {
    "collapsed": false
   },
   "outputs": [],
   "source": [
    "import pickle\n",
    "from Bio.Seq import Seq\n",
    "\n",
    "\n",
    "def barcodes_to_alleles(filename):\n",
    "\n",
    "\t# -----------------------------------------------------------------\n",
    "\t# with file input\n",
    "\t# -----------------------------------------------------------------\n",
    "\tbarcode_count_dict = {}\n",
    "\n",
    "\twith open(filename, 'rb') as f:\n",
    "\t\tlines = f.readlines()\n",
    "\tf.close()\n",
    "\ttotal_count = 0\n",
    "\tnum_of_N = 0\n",
    "\tmapped_count = 0\n",
    "\n",
    "\tfor line in lines:\n",
    "\t\t# print line\n",
    "\t\tbarcode = line.rstrip()\n",
    "\t\tbarcode = barcode[0 : 18]\n",
    "\t\tbarcode = Seq(barcode)\n",
    "\t\tbarcode = barcode.reverse_complement()\n",
    "\t\tbarcode = str(barcode)\n",
    "\t\ttotal_count += 1\n",
    "\t\tif barcode in barcode_count_dict:\n",
    "\t\t\tbarcode_count_dict[barcode] += 1\n",
    "\t\telse:\n",
    "\t\t\tbarcode_count_dict[barcode] = 1\n",
    "\n",
    "\t\t\n",
    "\n",
    "\n",
    "\t# -----------------------------------------------------------------\n",
    "\n",
    "\t# -----------------------------------------------------------------\n",
    "\n",
    "\t# # barcode_allele_dict = ???\n",
    "\n",
    "\tallele_count_dict = {}\n",
    "\tbarcode_allele_dict = pickle.load(open('allele_dic_with_WT.pkl', 'rb'))\n",
    "\t# print barcode_count_dict\n",
    "\t# print barcode_allele_dict\n",
    "\tfor barcode in barcode_count_dict:\n",
    "\t\tif 'N' in barcode:\n",
    "\t\t\tnum_of_N += 1\n",
    "\t\t\tcontinue\n",
    "\t\t# allele_count_dict[barcode_allele_dict(barcode)] = barcode_count_dict[barcode]\n",
    "\t\telif barcode in barcode_allele_dict.keys():\n",
    "\t\t\tmapped_count += barcode_count_dict[barcode]\n",
    "# \t\t\tallele_count_dict[barcode_allele_dict[barcode]] = barcode_count_dict[barcode]\n",
    "\n",
    "\n",
    "\treturn allele_count_dict,total_count,num_of_N,mapped_count"
   ]
  },
  {
   "cell_type": "code",
   "execution_count": 37,
   "metadata": {
    "collapsed": false
   },
   "outputs": [
    {
     "name": "stdout",
     "output_type": "stream",
     "text": [
      "t0_r1_seqs.txt 2845287 4491 2516473\n"
     ]
    }
   ],
   "source": [
    "filename = 't0_r1_seqs.txt'\n",
    "allele_count_dict,total_count,num_of_N,mapped_count = barcodes_to_alleles(filename)\n",
    "# print allele_count_dict\n",
    "# filename_save = filename.replace('_seqs.txt', '_allele_count_2.pkl')\n",
    "# print filename, filename_save\n",
    "\n",
    "# pickle.dump(allele_count_dict, open(filename_save, \"wb\" ))\n",
    "\n",
    "# print allele_count_dict\n",
    "\n",
    "# print total counts, number_of_N, mapped_count\n",
    "print filename, total_count, num_of_N, mapped_count"
   ]
  },
  {
   "cell_type": "code",
   "execution_count": 39,
   "metadata": {
    "collapsed": false
   },
   "outputs": [
    {
     "name": "stdout",
     "output_type": "stream",
     "text": [
      "t0_r1_seqs.txt 2845287 4491 2538835\n"
     ]
    }
   ],
   "source": [
    "filename = 't0_r1_seqs.txt'\n",
    "allele_count_dict,total_count,num_of_N,mapped_count = barcodes_to_alleles(filename)\n",
    "# print allele_count_dict\n",
    "# filename_save = filename.replace('_seqs.txt', '_allele_count_2.pkl')\n",
    "# print filename, filename_save\n",
    "\n",
    "# pickle.dump(allele_count_dict, open(filename_save, \"wb\" ))\n",
    "\n",
    "# print allele_count_dict\n",
    "\n",
    "# print total counts, number_of_N, mapped_count\n",
    "print filename, total_count, num_of_N, mapped_count"
   ]
  },
  {
   "cell_type": "code",
   "execution_count": 41,
   "metadata": {
    "collapsed": false
   },
   "outputs": [
    {
     "data": {
      "text/plain": [
       "0.8922948721868831"
      ]
     },
     "execution_count": 41,
     "metadata": {},
     "output_type": "execute_result"
    }
   ],
   "source": [
    "2538835.0/2845287"
   ]
  },
  {
   "cell_type": "code",
   "execution_count": null,
   "metadata": {
    "collapsed": true
   },
   "outputs": [],
   "source": []
  }
 ],
 "metadata": {
  "anaconda-cloud": {},
  "kernelspec": {
   "display_name": "Python [default]",
   "language": "python",
   "name": "python2"
  },
  "language_info": {
   "codemirror_mode": {
    "name": "ipython",
    "version": 2
   },
   "file_extension": ".py",
   "mimetype": "text/x-python",
   "name": "python",
   "nbconvert_exporter": "python",
   "pygments_lexer": "ipython2",
   "version": "2.7.12"
  }
 },
 "nbformat": 4,
 "nbformat_minor": 1
}
