{
 "cells": [
  {
   "cell_type": "code",
   "execution_count": 42,
   "metadata": {
    "collapsed": false
   },
   "outputs": [],
   "source": [
    "import seaborn as sns\n",
    "import matplotlib.pyplot as plt\n",
    "import numpy as np\n",
    "import pickle\n",
    "import sys\n",
    "# source = unicode(source, 'utf-8')\n",
    "# reload(sys)\n",
    "# sys.setdefaultencoding('utf8')\n",
    "\n",
    "file_name_perturb = './input_output_files/output/r1_full_data.pkl'\n",
    "file_name_control = './input_output_files/output/control_full_data.pkl'"
   ]
  },
  {
   "cell_type": "code",
   "execution_count": 49,
   "metadata": {
    "collapsed": false
   },
   "outputs": [
    {
     "ename": "UnicodeDecodeError",
     "evalue": "'ascii' codec can't decode byte 0xf8 in position 6: ordinal not in range(128)",
     "output_type": "error",
     "traceback": [
      "\u001b[0;31m---------------------------------------------------------------------------\u001b[0m",
      "\u001b[0;31mUnicodeDecodeError\u001b[0m                        Traceback (most recent call last)",
      "\u001b[0;32m<ipython-input-49-2f06ecb07f97>\u001b[0m in \u001b[0;36m<module>\u001b[0;34m()\u001b[0m\n\u001b[1;32m      8\u001b[0m \u001b[0;34m\u001b[0m\u001b[0m\n\u001b[1;32m      9\u001b[0m \u001b[0;31m# f = open(file_name_perturb)\u001b[0m\u001b[0;34m\u001b[0m\u001b[0;34m\u001b[0m\u001b[0m\n\u001b[0;32m---> 10\u001b[0;31m \u001b[0mAA_scores_perturb\u001b[0m\u001b[0;34m,\u001b[0m \u001b[0mtotal_reads_perturb\u001b[0m\u001b[0;34m,\u001b[0m \u001b[0mthrown_out_N_reads_perturb\u001b[0m\u001b[0;34m,\u001b[0m \u001b[0mthrown_out_dictionary_reads_perturb\u001b[0m \u001b[0;34m=\u001b[0m \u001b[0mpickle\u001b[0m\u001b[0;34m.\u001b[0m\u001b[0mload\u001b[0m\u001b[0;34m(\u001b[0m\u001b[0mopen\u001b[0m\u001b[0;34m(\u001b[0m\u001b[0mfile_name_perturb\u001b[0m\u001b[0;34m,\u001b[0m \u001b[0;34m'rb'\u001b[0m\u001b[0;34m)\u001b[0m\u001b[0;34m)\u001b[0m\u001b[0;34m\u001b[0m\u001b[0m\n\u001b[0m",
      "\u001b[0;31mUnicodeDecodeError\u001b[0m: 'ascii' codec can't decode byte 0xf8 in position 6: ordinal not in range(128)"
     ]
    }
   ],
   "source": [
    "## Class to set colermap midpoints to any number\n",
    "class MidpointNormalize(colors.Normalize):\n",
    "   def __init__(self, vmin=None, vmax=None, midpoint=None, clip=False):\n",
    "       self.midpoint = midpoint\n",
    "       colors.Normalize.__init__(self, vmin, vmax, clip)\n",
    "\n",
    "   def __call__(self, value, clip=None):\n",
    "       # I'm ignoring masked values and all kinds of edge cases to make a\n",
    "       # simple example...\n",
    "       x, y = [self.vmin, self.midpoint, self.vmax], [0, 0.5, 1]\n",
    "       return np.ma.masked_array(np.interp(value, x, y))\n",
    "\n",
    "\n",
    "# plt.imshow(p1d1_depth.transpose(), extent=[xmin, xmax, ymin, ymax], cmap='coolwarm', vmin=-0.6, vmax=0.2,\n",
    "#          norm=MidpointNormalize(midpoint=0.), interpolation='none', aspect='auto')"
   ]
  },
  {
   "cell_type": "code",
   "execution_count": null,
   "metadata": {
    "collapsed": true
   },
   "outputs": [],
   "source": []
  }
 ],
 "metadata": {
  "kernelspec": {
   "display_name": "Python 3",
   "language": "python",
   "name": "python3"
  },
  "language_info": {
   "codemirror_mode": {
    "name": "ipython",
    "version": 3
   },
   "file_extension": ".py",
   "mimetype": "text/x-python",
   "name": "python",
   "nbconvert_exporter": "python",
   "pygments_lexer": "ipython3",
   "version": "3.5.2"
  }
 },
 "nbformat": 4,
 "nbformat_minor": 1
}
